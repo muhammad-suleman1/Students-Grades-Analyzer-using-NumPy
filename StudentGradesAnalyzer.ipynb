{
 "cells": [
  {
   "cell_type": "code",
   "execution_count": 62,
   "id": "c5ff4ac5",
   "metadata": {},
   "outputs": [],
   "source": [
    "import numpy as np\n",
    "import matplotlib.pyplot as plt\n",
    "# import seaborn as sns\n"
   ]
  },
  {
   "cell_type": "code",
   "execution_count": 63,
   "id": "8fe176cd",
   "metadata": {},
   "outputs": [
    {
     "name": "stdout",
     "output_type": "stream",
     "text": [
      "Average Marks per Subject (as a percentage): [73.2 71.4 72.7 75.4 78. ]\n",
      "Average marks of each student: [ 77.2  56.6  90.2  70.2  43.6  82.4  59.4  71.6  90.2 100. ]\n",
      "Highest marks obtained by a student: 100.0\n",
      "Overall Average Marks (as a percentage): 74.14000000000001\n",
      "Total number of Students that are passed in Maths are :  10\n",
      "Total number of Students that are passed in Physics are :  9\n",
      "Total number of Students that are passed in Chemistry are :  10\n",
      "Total number of Students that are passed in English are :  10\n",
      "Total number of Students that are passed in Computer Science are :  10\n"
     ]
    }
   ],
   "source": [
    "import numpy as np\n",
    "import matplotlib.pyplot as plt\n",
    "# Rows = students (10 students)\n",
    "# Columns = subjects (Math, Physics, Chemistry, English, Computer Science)\n",
    "marks = np.array([\n",
    "    [78, 65, 72, 81, 90],  # Student 1\n",
    "    [55, 48, 60, 58, 62],  # Student 2\n",
    "    [92, 88, 85, 91, 95],  # Student 3\n",
    "    [66, 74, 70, 69, 72],  # Student 4\n",
    "    [40, 39, 45, 50, 44],  # Student 5\n",
    "    [83, 79, 77, 85, 88],  # Student 6\n",
    "    [58, 61, 55, 63, 60],  # Student 7\n",
    "    [71, 68, 73, 70, 76],  # Student 8\n",
    "    [89, 92, 90, 87, 93],  # Student 9\n",
    "    [100, 100, 100, 100, 100],  # Student 10\n",
    "])\n",
    "\n",
    "\n",
    "average_marks = np.mean(marks, axis=0)\n",
    "print(\"Average Marks per Subject (as a percentage):\", average_marks)\n",
    "\n",
    "avg_student = np.mean(marks, axis=1)\n",
    "print(\"Average marks of each student:\", avg_student)\n",
    "\n",
    "print(\"Highest marks obtained by a student:\", np.max(avg_student))\n",
    "\n",
    "overall_average = np.mean(average_marks)\n",
    "print(\"Overall Average Marks (as a percentage):\", overall_average)\n",
    "\n",
    "passing_marks = 40\n",
    "\n",
    "maths_passed = np.sum(marks[:, 0] >= passing_marks)\n",
    "physics_passed = np.sum(marks[:, 1] >= passing_marks)\n",
    "chemistry_passed = np.sum(marks[:, 2] >= passing_marks)\n",
    "english_passed = np.sum(marks[:, 3] >= passing_marks)\n",
    "cs_passed = np.sum(marks[:, 4] >= passing_marks)\n",
    "\n",
    "print(\"Total number of Students that are passed in Maths are : \", maths_passed)\n",
    "print(\"Total number of Students that are passed in Physics are : \", physics_passed)\n",
    "print(\"Total number of Students that are passed in Chemistry are : \", chemistry_passed)\n",
    "print(\"Total number of Students that are passed in English are : \", english_passed)\n",
    "print(\"Total number of Students that are passed in Computer Science are : \", cs_passed)\n",
    "\n",
    "\n",
    "\n",
    "# # Subject names (for reference)\n",
    "# subjects = [\"Math\", \"Physics\", \"Chemistry\", \"English\", \"Computer Science\"]\n",
    "\n",
    "# # Define the pass mark\n",
    "# pass_mark = 40\n",
    "\n",
    "# # Loop through each subject (column)\n",
    "# for i in range(marks.shape[1]):   # marks.shape[1] = number of columns (5 subjects)\n",
    "#     subject_marks = marks[:, i]   # take all student marks for subject i\n",
    "#     passes = np.sum(subject_marks >= pass_mark)  # count how many >= pass_mark\n",
    "#     print(f\"{subjects[i]}: {passes} students passed\")\n"
   ]
  },
  {
   "cell_type": "code",
   "execution_count": 64,
   "id": "7743581f",
   "metadata": {},
   "outputs": [
    {
     "name": "stdout",
     "output_type": "stream",
     "text": [
      "Math marks are:  [ 78  55  92  66  40  83  58  71  89 100]\n",
      "Total Average of All Marks are:  73.2\n",
      "Highest in maths is:  100\n",
      "Lowest in maths is:  40\n",
      "Passes marks are:  10\n",
      "\n",
      "\n",
      "Pyhsics marks are:  [ 65  48  88  74  39  79  61  68  92 100]\n",
      "Total Average of All Marks are:  71.4\n",
      "Highest in physics is:  100\n",
      "Lowest in physics is:  39\n",
      "Passes marks are:  9\n"
     ]
    }
   ],
   "source": [
    "import numpy as np\n",
    "import matplotlib.pyplot as plt\n",
    "# Rows = students (10 students)\n",
    "# Columns = subjects (Math, Physics, Chemistry, English, Computer Science)\n",
    "marks = np.array([\n",
    "    [78, 65, 72, 81, 90],  # Student 1\n",
    "    [55, 48, 60, 58, 62],  # Student 2\n",
    "    [92, 88, 85, 91, 95],  # Student 3\n",
    "    [66, 74, 70, 69, 72],  # Student 4\n",
    "    [40, 39, 45, 50, 44],  # Student 5\n",
    "    [83, 79, 77, 85, 88],  # Student 6\n",
    "    [58, 61, 55, 63, 60],  # Student 7\n",
    "    [71, 68, 73, 70, 76],  # Student 8\n",
    "    [89, 92, 90, 87, 93],  # Student 9\n",
    "    [100, 100, 100, 100, 100],  # Student 10\n",
    "])\n",
    "\n",
    "maths_marks = np.array(marks[: , 0])\n",
    "print(\"Math marks are: \", maths_marks)\n",
    "\n",
    "average_math = np.mean(maths_marks)\n",
    "print(\"Total Average of All Marks are: \" , average_math)\n",
    "\n",
    "highest_marks = np.max(maths_marks)\n",
    "print(\"Highest in maths is: \", highest_marks)\n",
    "\n",
    "lowest_marks = np.min(maths_marks)\n",
    "print(\"Lowest in maths is: \", lowest_marks)\n",
    "\n",
    "passes_marks = 40\n",
    "\n",
    "maths_passed = np.sum(marks[:, 0] >= passes_marks)\n",
    "print(\"Passes marks are: \", maths_passed)\n",
    "\n",
    "\n",
    "print(\"\\n\")\n",
    "\n",
    "physics_marks = np.array(marks[: ,1])\n",
    "print(\"Pyhsics marks are: \", physics_marks)\n",
    "\n",
    "average_physics = np.mean(physics_marks)\n",
    "print(\"Total Average of All Marks are: \" , average_physics)\n",
    "\n",
    "highest_marks1 = np.max(physics_marks)\n",
    "print(\"Highest in physics is: \", highest_marks1)\n",
    "\n",
    "lowest_marks1  = np.min(physics_marks)\n",
    "print(\"Lowest in physics is: \", lowest_marks1)\n",
    "\n",
    "\n",
    "physics_passed = np.sum(marks[: , 1] >= passes_marks)\n",
    "print(\"Passes marks are: \", physics_passed)\n",
    "\n",
    "\n",
    "#can do this for all subjects\n",
    "\n"
   ]
  },
  {
   "cell_type": "code",
   "execution_count": 65,
   "id": "ff703099",
   "metadata": {},
   "outputs": [
    {
     "name": "stdout",
     "output_type": "stream",
     "text": [
      "Student 1 is:  [78 65 72 81 90]\n",
      "Student 2 is:  [55 48 60 58 62]\n",
      "Student 3 is:  [92 88 85 91 95]\n",
      "Student 4 is:  [66 74 70 69 72]\n",
      "Student 5 is:  [40 39 45 50 44]\n",
      "Student 6 is:  [83 79 77 85 88]\n",
      "Student 7 is:  [58 61 55 63 60]\n",
      "Student 8 is:  [58 61 55 63 60]\n",
      "Student 9 is:  [71 68 73 70 76]\n",
      "Student 10 is:  [100 100 100 100 100]\n",
      "Total marks of student 1 is:  386\n",
      "Student 1 average is:  77.2\n",
      "Student 1 passes subjects:  5\n"
     ]
    }
   ],
   "source": [
    "marks = np.array([\n",
    "    [78, 65, 72, 81, 90],  # Student 1\n",
    "    [55, 48, 60, 58, 62],  # Student 2\n",
    "    [92, 88, 85, 91, 95],  # Student 3\n",
    "    [66, 74, 70, 69, 72],  # Student 4\n",
    "    [40, 39, 45, 50, 44],  # Student 5\n",
    "    [83, 79, 77, 85, 88],  # Student 6\n",
    "    [58, 61, 55, 63, 60],  # Student 7\n",
    "    [71, 68, 73, 70, 76],  # Student 8\n",
    "    [89, 92, 90, 87, 93],  # Student 9\n",
    "    [100, 100, 100, 100, 100],  # Student 10\n",
    "])\n",
    "student1 = np.array(marks[0])\n",
    "print(\"Student 1 is: \", student1)\n",
    "student2 = np.array(marks[1])\n",
    "print(\"Student 2 is: \", student2)\n",
    "student3 = np.array(marks[2])\n",
    "print(\"Student 3 is: \", student3)\n",
    "student4 = np.array(marks[3])\n",
    "print(\"Student 4 is: \", student4)\n",
    "student5 = np.array(marks[4])\n",
    "print(\"Student 5 is: \", student5)\n",
    "student6 = np.array(marks[5])\n",
    "print(\"Student 6 is: \", student6)\n",
    "student7 = np.array(marks[6])\n",
    "print(\"Student 7 is: \", student7)\n",
    "student8 = np.array(marks[7])\n",
    "print(\"Student 8 is: \", student7)\n",
    "student9 = np.array(marks[8])\n",
    "print(\"Student 9 is: \", student8)\n",
    "student10 = np.array(marks[9])\n",
    "print(\"Student 10 is: \", student10)\n",
    "\n",
    "\n",
    "total_marks = np.sum(marks [0])\n",
    "print(\"Total marks of student 1 is: \", total_marks)\n",
    "\n",
    "student1_average = np.mean(marks [0])\n",
    "print(\"Student 1 average is: \", student1_average)\n",
    "\n",
    "\n",
    "passes_marks = 40\n",
    "\n",
    "studen1_subjets_passed = np.sum(marks[0] >= passes_marks)\n",
    "print(\"Student 1 passes subjects: \", studen1_subjets_passed)\n",
    "\n",
    "#can do this for all studnets\n",
    "\n"
   ]
  },
  {
   "cell_type": "code",
   "execution_count": 66,
   "id": "fee53482",
   "metadata": {},
   "outputs": [
    {
     "name": "stdout",
     "output_type": "stream",
     "text": [
      "overall class avg. is  71.26666666666667\n",
      "Student Avgs:  [ 77.2  56.6  90.2  70.2  43.6  82.4  59.4  71.6  90.2 100. ]\n",
      "\n",
      "\n",
      "top 3:  [9 2 8]\n"
     ]
    }
   ],
   "source": [
    "overall_class_average = np.mean(marks[0:9])\n",
    "print(\"overall class avg. is \", overall_class_average)\n",
    "\n",
    "student_avgs = np.mean(marks, axis=1)\n",
    "print(\"Student Avgs: \", student_avgs)\n",
    "\n",
    "\n",
    "\n",
    "print(\"\\n\")\n",
    "\n",
    "ranked = np.argsort(-student_avgs)[:3]\n",
    "print(\"top 3: \", ranked)"
   ]
  },
  {
   "cell_type": "code",
   "execution_count": 67,
   "id": "05aced90",
   "metadata": {},
   "outputs": [
    {
     "name": "stdout",
     "output_type": "stream",
     "text": [
      "Class Average: 71.26666666666667\n",
      "Student Averages: 77.2\n",
      "Grades: ['B' 'C' 'A' 'B' 'F' 'B' 'C' 'B' 'A' 'A']\n"
     ]
    }
   ],
   "source": [
    "grades = np.where(student_avgs >= 85, \"A\",\n",
    "         np.where(student_avgs >= 70, \"B\",\n",
    "         np.where(student_avgs >= 55, \"C\", \"F\")))\n",
    "\n",
    "print(\"Class Average:\", overall_class_average)\n",
    "print(\"Student Averages:\", student1_average)\n",
    "print(\"Grades:\", grades)"
   ]
  },
  {
   "cell_type": "code",
   "execution_count": 70,
   "id": "99f2e68b",
   "metadata": {},
   "outputs": [
    {
     "name": "stdout",
     "output_type": "stream",
     "text": [
      "c:\\Users\\SULEMAN\\AppData\\Local\\Programs\\Python\\Python313\\python.exe\n"
     ]
    }
   ],
   "source": [
    "import sys\n",
    "print(sys.executable)\n"
   ]
  },
  {
   "cell_type": "code",
   "execution_count": 71,
   "id": "27a4de57",
   "metadata": {},
   "outputs": [],
   "source": [
    "!<c:\\Users\\SULEMAN\\AppData\\Local\\Programs\\Python\\Python313\\python.exe> -m pip install seaborn"
   ]
  },
  {
   "cell_type": "code",
   "execution_count": null,
   "id": "a657fba1",
   "metadata": {},
   "outputs": [
    {
     "data": {
      "text/plain": [
       "<Figure size 800x500 with 1 Axes>"
      ]
     },
     "metadata": {},
     "output_type": "display_data"
    },
    {
     "data": {
      "text/plain": [
       "<Figure size 800x500 with 1 Axes>"
      ]
     },
     "metadata": {},
     "output_type": "display_data"
    },
    {
     "data": {
      "text/plain": [
       "<Figure size 800x600 with 2 Axes>"
      ]
     },
     "metadata": {},
     "output_type": "display_data"
    }
   ],
   "source": [
    "import matplotlib.pyplot as plt\n",
    "import seaborn\n",
    "import numpy as np\n",
    "\n",
    "#Bar Chart: Subject Averages\n",
    "plt.figure(figsize=(8,5))\n",
    "plt.bar(range(1, marks.shape[1]+1), marks.mean(axis=0))\n",
    "plt.title(\"Average Marks per Subject\")\n",
    "plt.xlabel(\"Subjects\")\n",
    "plt.ylabel(\"Average Marks\")\n",
    "plt.show()\n",
    "\n",
    "#Bar Chart: Student Averages\n",
    "plt.figure(figsize=(8,5))\n",
    "plt.bar(range(1, marks.shape[0]+1), marks.mean(axis=1))\n",
    "plt.title(\"Average Marks per Student\")\n",
    "plt.xlabel(\"Students\")\n",
    "plt.ylabel(\"Average Marks\")\n",
    "plt.show()\n",
    "\n",
    "#Heatmap: Marks Table\n",
    "plt.figure(figsize=(8,6))\n",
    "seaborn.heatmap(marks, annot=True, cmap=\"YlGnBu\", fmt=\"d\", cbar=True)\n",
    "plt.title(\"Heatmap of Student Marks\")\n",
    "plt.xlabel(\"Subjects\")\n",
    "plt.ylabel(\"Students\")\n",
    "plt.show()"
   ]
  },
  {
   "cell_type": "code",
   "execution_count": null,
   "id": "a9ec0f0a",
   "metadata": {},
   "outputs": [],
   "source": []
  },
  {
   "cell_type": "code",
   "execution_count": null,
   "id": "5f34d01e",
   "metadata": {},
   "outputs": [],
   "source": []
  },
  {
   "cell_type": "code",
   "execution_count": null,
   "id": "4422408b",
   "metadata": {},
   "outputs": [],
   "source": []
  },
  {
   "cell_type": "code",
   "execution_count": null,
   "id": "8dd81abf",
   "metadata": {},
   "outputs": [],
   "source": []
  },
  {
   "cell_type": "code",
   "execution_count": null,
   "id": "44b4c366",
   "metadata": {},
   "outputs": [],
   "source": []
  }
 ],
 "metadata": {
  "kernelspec": {
   "display_name": "Python 3",
   "language": "python",
   "name": "python3"
  },
  "language_info": {
   "codemirror_mode": {
    "name": "ipython",
    "version": 3
   },
   "file_extension": ".py",
   "mimetype": "text/x-python",
   "name": "python",
   "nbconvert_exporter": "python",
   "pygments_lexer": "ipython3",
   "version": "3.13.5"
  }
 },
 "nbformat": 4,
 "nbformat_minor": 5
}
